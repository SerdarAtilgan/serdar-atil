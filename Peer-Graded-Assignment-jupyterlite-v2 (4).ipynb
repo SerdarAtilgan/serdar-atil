{
 "cells": [
  {
   "cell_type": "markdown",
   "metadata": {},
   "source": [
    "<center>\n",
    "    <img src=\"https://s3-api.us-geo.objectstorage.softlayer.net/cf-courses-data/CognitiveClass/Logos/organization_logo/organization_logo.png\" width=\"300\" alt=\"cognitiveclass.ai logo\">\n",
    "</center>\n"
   ]
  },
  {
   "cell_type": "markdown",
   "metadata": {},
   "source": [
    "#### Import the required libraries we need for the lab.\n"
   ]
  },
  {
   "cell_type": "code",
   "execution_count": null,
   "metadata": {},
   "outputs": [],
   "source": [
    "import pandas as pd\n",
    "import seaborn as sns\n",
    "import matplotlib.pyplot as pyplot\n",
    "import scipy.stats\n",
    "import statsmodels.api as sm\n",
    "from statsmodels.formula.api import ols"
   ]
  },
  {
   "cell_type": "markdown",
   "metadata": {},
   "source": [
    "#### Read the dataset in the csv file from the URL\n"
   ]
  },
  {
   "cell_type": "code",
   "execution_count": null,
   "metadata": {},
   "outputs": [],
   "source": [
    "boston_df=pd.read_csv('https://cf-courses-data.s3.us.cloud-object-storage.appdomain.cloud/IBMDeveloperSkillsNetwork-ST0151EN-SkillsNetwork/labs/boston_housing.csv')"
   ]
  },
  {
   "cell_type": "markdown",
   "metadata": {},
   "source": [
    "#### Add your code below following the instructions given in the course to complete the peer graded assignment\n"
   ]
  },
  {
   "cell_type": "code",
   "execution_count": 12,
   "metadata": {},
   "outputs": [
    {
     "name": "stderr",
     "output_type": "stream",
     "text": [
      "UsageError: Line magic function `%python` not found (But cell magic `%%python` exists, did you mean that instead?).\n"
     ]
    }
   ],
   "source": [
    "%python\n",
    "%pip install seaborn matplotlib scipy statsmodels\n",
    "\n",
    "import requests\n",
    "import pandas as pd\n",
    "import io\n",
    "import seaborn as sns\n",
    "import matplotlib.pyplot as plt\n",
    "from scipy import stats  # Import the stats module from scipy\n",
    "import statsmodels.api as sm  # Import statsmodels.api as sm\n",
    "\n",
    "URL = 'https://cf-courses-data.s3.us.cloud-object-storage.appdomain.cloud/IBMDeveloperSkillsNetwork-ST0151EN-SkillsNetwork/labs/boston_housing.csv'\n",
    "resp = requests.get(URL)\n",
    "boston_url = io.BytesIO(resp.content)\n",
    "\n",
    "# Read the online file by the URL provided above, and assign it to variable \"df\"\n",
    "df = pd.read_csv(boston_url)\n",
    "\n",
    "print(\"The first 5 rows of the dataframe\") \n",
    "display(df.head(5))\n",
    "\n",
    "#  For the \"Median value of owner-occupied homes\" provide a boxplot\n",
    "ax = sns.boxplot(y=\"MEDV\", data=df)\n",
    "ax.set_title('Owner-occupied homes')\n",
    "plt.show()\n",
    "\n",
    "# Provide a bar plot for the Charles river variable\n",
    "ax=sns.catplot(\n",
    "    x='CHAS', \n",
    "    kind='count', \n",
    "    data=df)\n",
    "ax.fig.suptitle('Charles river variable')\n",
    "plt.show()\n",
    "\n",
    "# Provide a boxplot for the MEDV variable vs the AGE variable.\n",
    "df.loc[(df['AGE'] <= 35), 'Age_Group'] = '35 years and younger'\n",
    "df.loc[(df['AGE'] > 35) & (df['AGE'] < 70), 'Age_Group'] = 'between 35 and 70 years'\n",
    "df.loc[(df['AGE'] >= 70), 'Age_Group'] = '70 years and older'\n",
    "\n",
    "ax3 = sns.boxplot(x = 'MEDV', y = 'Age_Group', data = df)\n",
    "ax3.set_title('Median value of owner-occupied homes per Age Group')\n",
    "plt.show()\n",
    "\n",
    "# Provide a scatter plot to show the relationship between Nitric oxide concentrations and the proportion of non-retail business acres per town\n",
    "ax4 = sns.scatterplot(y='NOX', x='INDUS', data=df)\n",
    "ax4.set_title('Nitric oxide concentration per proportion of non-retail business acres per town')\n",
    "plt.show()\n",
    "plt.figtext(0.5, 0.01, \"Veri kaynağı: df veri seti, Generally, a higher proprtion of non-retail business acres per town produces a higher concentration of Nitric oxide.\", ha=\"center\", fontsize=8)\n",
    "\n",
    "# Create a histogram for the pupil to teacher ratio variable\n",
    "ax=sns.catplot(\n",
    "    x='PTRATIO', \n",
    "    kind='count', \n",
    "    data=df)\n",
    "ax.fig.suptitle('pupil to teacher ratio variable')\n",
    "plt.show()\n",
    "\n",
    "# Statistical\n",
    "\n",
    "# Is there a significant difference in median value of houses bounded by the Charles river or not? (T-test for independent samples)\n",
    "\n",
    "df.loc[(df['CHAS'] == 0), 'CHAS_T'] = 'FAR'\n",
    "df.loc[(df['CHAS'] == 1), 'CHAS_T'] = 'NEAR'\n",
    "df.head(5)\n",
    "\n",
    "#  Is there a significant difference in median value of houses bounded by the Charles river or not? (T-test for independent samples)\n",
    "ttest_result = stats.ttest_ind(\n",
    "    df[df['CHAS_T'] == 'FAR']['MEDV'], \n",
    "    df[df['CHAS_T'] == 'NEAR']['MEDV'], \n",
    "    equal_var=True\n",
    ")\n",
    "\n",
    "# Given the p-value is less than 0.05, we reject the Null Hypothesis, meaning there is not a statistical difference in median value betwenn houses near the Charles River and houses far away\n",
    "print('Question 1 Given the p-value is less than 0.05, we reject the Null Hypothesis, meaning there is not a statistical difference in median value betwenn houses near the Charles River and houses far away')\n",
    "print(ttest_result)\n",
    "\n",
    "\n",
    "# Is there a difference in Median values of houses (MEDV) for each proportion of owner occupied units built prior to 1940 (AGE)? (ANOVA)\n",
    "print\n",
    "from statsmodels.formula.api import ols\n",
    "lm = ols('MEDV ~ AGE', data = df).fit()\n",
    "table = sm.stats.anova_lm(lm)\n",
    "\n",
    "print(' Question 2 Given p-value is less than 0.05, we fail to accept the Null Hypothesis --> There is statistical difference in Median values of houses (MEDV) for each proportion of owner occpied units built prior to 1940')\n",
    "print(table)\n",
    "\n",
    "#Can we conclude that there is no relationship between Nitric oxide concentrations and proportion of non-retail business acres per town? (Pearson Correlation)\n",
    "print('Question 3 Given the Pearson Coefficient is 0.76365 and p-value less than 0.05, we reject the Null Hypothesis as there is a positive correlation between Nitric oxide concentration and proportion of non-retail business acres per town')\n",
    "\n",
    "stats.pearsonr(df['NOX'], df['INDUS'])\n",
    "\n",
    "# What is the impact of an additional weighted distance  to the five Boston employment centres on the median value of owner occupied homes? (Regression analysis)\n",
    "\n",
    "print('Question 4 The coef DIS of 1.0916 indicates that an additional weighted distance to the 5 empolyment centers in boston increases of 1.0916 the median value of owner occupied homes')\n",
    "x =df['DIS']\n",
    "y = df['MEDV']\n",
    "\n",
    "x = sm.add_constant(x)\n",
    "\n",
    "model = sm.OLS(y, x).fit()\n",
    "predisction = model.predict(x)\n",
    "\n",
    "model.summary()\n",
    "\n"
   ]
  },
  {
   "cell_type": "code",
   "execution_count": null,
   "metadata": {},
   "outputs": [],
   "source": []
  },
  {
   "cell_type": "code",
   "execution_count": null,
   "metadata": {},
   "outputs": [],
   "source": []
  },
  {
   "cell_type": "code",
   "execution_count": null,
   "metadata": {},
   "outputs": [],
   "source": []
  }
 ],
 "metadata": {
  "kernelspec": {
   "display_name": "Python 3 (ipykernel)",
   "language": "python",
   "name": "python3"
  },
  "language_info": {
   "codemirror_mode": {
    "name": "ipython",
    "version": 3
   },
   "file_extension": ".py",
   "mimetype": "text/x-python",
   "name": "python",
   "nbconvert_exporter": "python",
   "pygments_lexer": "ipython3",
   "version": "3.9.7"
  },
  "prev_pub_hash": "e8217a69c6d5ee68d06c806e939831533d260fbfc123f81d52c578e9136390dd"
 },
 "nbformat": 4,
 "nbformat_minor": 4
}
